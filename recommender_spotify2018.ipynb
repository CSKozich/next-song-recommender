{
 "cells": [
  {
   "cell_type": "code",
   "execution_count": null,
   "metadata": {
    "id": "SpxBTzBJTtHq"
   },
   "outputs": [],
   "source": [
    "from sklearn.model_selection import train_test_split\n",
    "import pandas as pd\n",
    "import numpy as np\n",
    "\n",
    "from gensim.models import Word2Vec\n",
    "from gensim.models.callbacks import CallbackAny2Vec\n",
    "\n",
    "import time\n",
    "from tqdm import tqdm\n",
    "import multiprocessing\n",
    "import logging\n",
    "import random\n"
   ]
  },
  {
   "cell_type": "code",
   "execution_count": null,
   "metadata": {
    "colab": {
     "base_uri": "https://localhost:8080/"
    },
    "id": "krJtglsYTw-W",
    "outputId": "57c9bbcc-9764-41cc-bbbf-6c338c1a4ca2"
   },
   "outputs": [],
   "source": [
    "from google.colab import drive\n",
    "drive.mount('/content/drive', force_remount=True)\n",
    "SONGS_PATH = '/content/drive/MyDrive/cs4100_data/songs.csv'\n",
    "PLAYLISTS_PATH = '/content/drive/MyDrive/cs4100_data/playlists_0.npy'\n"
   ]
  },
  {
   "cell_type": "code",
   "execution_count": null,
   "metadata": {},
   "outputs": [],
   "source": [
    "SONGS_PATH = 'dataset/spotify2018/songs.csv'\n",
    "PLAYLISTS_PATH = 'dataset/spotify2018/playlists_0.npy'"
   ]
  },
  {
   "cell_type": "code",
   "execution_count": null,
   "metadata": {
    "id": "cu51ixV_TtHt"
   },
   "outputs": [],
   "source": [
    "songs = pd.read_csv(SONGS_PATH)[['ids', 'track_name', 'artist_name', 'artist_uri']]"
   ]
  },
  {
   "cell_type": "code",
   "execution_count": null,
   "metadata": {
    "colab": {
     "base_uri": "https://localhost:8080/",
     "height": 238
    },
    "id": "R-g2AZdvTtHu",
    "outputId": "2b100c7e-c0fd-44a5-aa16-f7c44c0c07ea"
   },
   "outputs": [],
   "source": [
    "songs.head()"
   ]
  },
  {
   "cell_type": "code",
   "execution_count": null,
   "metadata": {
    "colab": {
     "base_uri": "https://localhost:8080/"
    },
    "id": "mscx14wRv1bh",
    "outputId": "d3f41a89-3d46-47e9-e9c5-c6b24a1cda88"
   },
   "outputs": [],
   "source": [
    "songs.shape"
   ]
  },
  {
   "cell_type": "code",
   "execution_count": null,
   "metadata": {
    "id": "qD1i20QWTtHv"
   },
   "outputs": [],
   "source": [
    "with open(PLAYLISTS_PATH, 'rb') as f:\n",
    "    playlists = np.load(f, allow_pickle=True)"
   ]
  },
  {
   "cell_type": "code",
   "execution_count": null,
   "metadata": {
    "colab": {
     "base_uri": "https://localhost:8080/"
    },
    "id": "a3AEekEcTtHv",
    "outputId": "27ad2724-0f9b-4967-9774-d29c2079bcd5"
   },
   "outputs": [],
   "source": [
    "len(playlists)"
   ]
  },
  {
   "cell_type": "code",
   "execution_count": null,
   "metadata": {
    "id": "3YLX9EOxTtHw"
   },
   "outputs": [],
   "source": [
    "from sklearn.model_selection import train_test_split\n",
    "playlist_train, playlist_test = train_test_split(playlists, test_size = 0.01, shuffle = True, random_state = 4100)"
   ]
  },
  {
   "cell_type": "code",
   "execution_count": null,
   "metadata": {
    "colab": {
     "base_uri": "https://localhost:8080/"
    },
    "id": "fvfadNNkTtHw",
    "outputId": "ce362cc3-d043-4810-f8a1-03f8b234d669"
   },
   "outputs": [],
   "source": [
    "logging.basicConfig(format=\"%(asctime)s : %(levelname)s : %(message)s\", level=logging.INFO)\n",
    "\n",
    "class Callback(CallbackAny2Vec):\n",
    "    \n",
    "    def __init__(self):\n",
    "        self.epoch = 1\n",
    "        self.training_loss = []\n",
    "\n",
    "    def on_epoch_end(self, model):\n",
    "        loss = model.get_latest_training_loss()\n",
    "        current_loss = loss if self.epoch == 1 else loss - self.training_loss[-1]\n",
    "        print(f\"Loss after epoch {self.epoch}: {current_loss}\")\n",
    "        self.training_loss.append(current_loss)\n",
    "        self.epoch += 1\n",
    "\n",
    "model = Word2Vec(\n",
    "    size = 256,\n",
    "    window = 15,\n",
    "    min_count = 1,\n",
    "    sg = 0,\n",
    "    negative = 5,\n",
    "    workers = 7)\n",
    "\n",
    "logging.disable(logging.NOTSET)\n",
    "start = time.time()\n",
    "print('Building vocab...')\n",
    "model.build_vocab(playlist_train)\n",
    "print('Finished building vocab in {}s'.format(round(time.time() - start)))\n",
    "\n",
    "logging.disable(logging.INFO)\n",
    "callback = Callback()\n",
    "\n",
    "\n",
    "start = time.time()\n",
    "print('Training model...')\n",
    "model.train(playlist_train,\n",
    "            total_examples = model.corpus_count,\n",
    "            epochs = 100,\n",
    "            compute_loss = True,\n",
    "            callbacks = [callback])\n",
    "\n",
    "print('Finished training model in {}s'.format(round(time.time() - start)))"
   ]
  },
  {
   "cell_type": "code",
   "execution_count": null,
   "metadata": {
    "id": "m3J2Y4WtTtHx"
   },
   "outputs": [],
   "source": [
    "def mean_vector_for_playlist(playlist):\n",
    "    vec = []\n",
    "    for song in playlist:\n",
    "        try:\n",
    "            vec.append(model.wv[song])\n",
    "        except KeyError:\n",
    "            continue\n",
    "    return np.mean(vec, axis=0)\n",
    "\n",
    "def similar_songs(playlist_vector, topn=3):\n",
    "    similar_songs = model.wv.similar_by_vector(playlist_vector, topn=topn)\n",
    "    return similar_songs\n",
    "\n",
    "def hit_rate(playlist, window, n_songs):\n",
    "    hit = 0\n",
    "    \n",
    "    masked_playlists = []\n",
    "    \n",
    "    random_idxs = [random.randrange(len(playlist)) for _ in range(3)]\n",
    "    \n",
    "    for idx in random_idxs:\n",
    "        masked_playlist = [song for i, song in enumerate(playlist) if i != idx]\n",
    "        masked_playlists.append((masked_playlist, playlist[idx]))\n",
    "                             \n",
    "    for masked_playlist, target in masked_playlists:\n",
    "        masked_vector = mean_vector_for_playlist(masked_playlist)\n",
    "        if not isinstance(masked_vector, np.ndarray) and np.isnan(masked_vector):\n",
    "            return -1\n",
    "        recommended_songs = similar_songs(masked_vector, topn=n_songs)\n",
    "        songs_id = list(zip(*recommended_songs))[0]\n",
    "        hit += int(target in songs_id)\n",
    "    return hit/len(playlist)\n",
    "\n",
    "def evaluate_model(playlists, window, n_songs):\n",
    "    data = []\n",
    "    for playlist in tqdm(playlists):\n",
    "        hr = hit_rate(playlist, window, n_songs=n_songs)\n",
    "        if not hr == -1:\n",
    "            data.append(hr)\n",
    "    return pd.Series(data).mean()\n"
   ]
  },
  {
   "cell_type": "code",
   "execution_count": null,
   "metadata": {
    "colab": {
     "base_uri": "https://localhost:8080/"
    },
    "id": "OPKELYo5wNtd",
    "outputId": "c97e7f86-ba17-4d0c-e4ff-68e2484fe7c8"
   },
   "outputs": [],
   "source": [
    "playlist_vec = list(map(mean_vector_for_playlist, playlist_test))"
   ]
  },
  {
   "cell_type": "code",
   "execution_count": null,
   "metadata": {
    "colab": {
     "base_uri": "https://localhost:8080/"
    },
    "id": "ORQ2oEAYwPp0",
    "outputId": "92b5ee23-15ba-4b70-da96-0215fabb15cf"
   },
   "outputs": [],
   "source": [
    "evaluate_model(playlist_test, model.window, 30)"
   ]
  },
  {
   "cell_type": "code",
   "execution_count": null,
   "metadata": {},
   "outputs": [],
   "source": [
    "def recommend_songs(playlist, n):\n",
    "    print(\"Given Songs:\")\n",
    "    for song_id in playlist:\n",
    "        print(songs.loc[song_id, \"track_name\"], songs.loc[song_id, \"artist_name\"])\n",
    "\n",
    "    print('Recommended Songs:')\n",
    "    playlist_vector = mean_vector_for_playlist(playlist)\n",
    "    for song, similarity in similar_songs(playlist_vector, n):\n",
    "        print(\"[{}] {}\".format(similarity, song))\n"
   ]
  }
 ],
 "metadata": {
  "colab": {
   "collapsed_sections": [],
   "name": "recommender_spotify2018.ipynb",
   "provenance": []
  },
  "kernelspec": {
   "display_name": "Python 3",
   "language": "python",
   "name": "python3"
  },
  "language_info": {
   "codemirror_mode": {
    "name": "ipython",
    "version": 3
   },
   "file_extension": ".py",
   "mimetype": "text/x-python",
   "name": "python",
   "nbconvert_exporter": "python",
   "pygments_lexer": "ipython3",
   "version": "3.7.3"
  }
 },
 "nbformat": 4,
 "nbformat_minor": 1
}
