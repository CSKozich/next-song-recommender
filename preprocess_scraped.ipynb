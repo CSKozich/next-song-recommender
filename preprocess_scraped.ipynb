{
 "cells": [
  {
   "cell_type": "code",
   "execution_count": null,
   "metadata": {},
   "outputs": [],
   "source": [
    "import pandas as pd\n",
    "import numpy as np"
   ]
  },
  {
   "cell_type": "code",
   "execution_count": null,
   "metadata": {},
   "outputs": [],
   "source": [
    "df = pd.read_csv('datasets/spotify/spotify_cleaned_dataset.csv')\n",
    "df = df[['user_id__playlist_name','user_id','playlist_name','track_name', 'artist_name']]"
   ]
  },
  {
   "cell_type": "code",
   "execution_count": null,
   "metadata": {},
   "outputs": [],
   "source": [
    "df['artist_name__track_name'] = df['artist_name'] + '__' + df['track_name']"
   ]
  },
  {
   "cell_type": "code",
   "execution_count": null,
   "metadata": {},
   "outputs": [],
   "source": [
    "df['song_id'] = df.groupby('artist_name__track_name').grouper.group_info[0]"
   ]
  },
  {
   "cell_type": "code",
   "execution_count": null,
   "metadata": {},
   "outputs": [],
   "source": [
    "songs = df[['artist_name', 'track_name', 'song_id']].copy()"
   ]
  },
  {
   "cell_type": "code",
   "execution_count": null,
   "metadata": {},
   "outputs": [],
   "source": [
    "songs.set_index('song_id', inplace=True)\n",
    "songs.index = songs.index.astype('str')\n",
    "songs.drop_duplicates(inplace=True)\n",
    "unknown_songs = songs[(songs['artist_name'].isin(['-', '', ' '])) | (songs['track_name'].isin(['-', '', ' ']))]\n",
    "songs.drop(unknown_songs.index, inplace=True)\n",
    "songs.reset_index(inplace=True)\n",
    "songs.head()"
   ]
  },
  {
   "cell_type": "code",
   "execution_count": null,
   "metadata": {},
   "outputs": [],
   "source": [
    "songs.shape"
   ]
  },
  {
   "cell_type": "code",
   "execution_count": null,
   "metadata": {},
   "outputs": [],
   "source": [
    "playlists = df[['user_id__playlist_name','user_id', 'playlist_name', 'song_id']].copy()\n",
    "playlists = playlists.groupby(['user_id__playlist_name','user_id', 'playlist_name'])['song_id'].apply(list).reset_index()"
   ]
  },
  {
   "cell_type": "code",
   "execution_count": null,
   "metadata": {},
   "outputs": [],
   "source": [
    "playlist_data = [[str(song) for song in play if song not in unknown_songs.index] \n",
    "                 for play in playlists['song_id'].to_list()]"
   ]
  },
  {
   "cell_type": "code",
   "execution_count": null,
   "metadata": {},
   "outputs": [],
   "source": [
    "len(playlist_data)"
   ]
  },
  {
   "cell_type": "code",
   "execution_count": null,
   "metadata": {},
   "outputs": [],
   "source": [
    "with open('datasets/spotify/playlists.npy', 'wb') as f:\n",
    "    np.save(f, np.array(playlist_data))"
   ]
  },
  {
   "cell_type": "code",
   "execution_count": null,
   "metadata": {},
   "outputs": [],
   "source": [
    "songs.to_csv('datasets/spotify/songs.csv')"
   ]
  }
 ],
 "metadata": {
  "kernelspec": {
   "display_name": "Python 3",
   "language": "python",
   "name": "python3"
  },
  "language_info": {
   "codemirror_mode": {
    "name": "ipython",
    "version": 3
   },
   "file_extension": ".py",
   "mimetype": "text/x-python",
   "name": "python",
   "nbconvert_exporter": "python",
   "pygments_lexer": "ipython3",
   "version": "3.7.3"
  }
 },
 "nbformat": 4,
 "nbformat_minor": 4
}
